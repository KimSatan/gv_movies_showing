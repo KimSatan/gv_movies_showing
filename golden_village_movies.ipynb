{
 "metadata": {
  "language_info": {
   "codemirror_mode": {
    "name": "ipython",
    "version": 3
   },
   "file_extension": ".py",
   "mimetype": "text/x-python",
   "name": "python",
   "nbconvert_exporter": "python",
   "pygments_lexer": "ipython3",
   "version": "3.8.3-final"
  },
  "orig_nbformat": 2,
  "kernelspec": {
   "name": "python3",
   "display_name": "Python 3",
   "language": "python"
  }
 },
 "nbformat": 4,
 "nbformat_minor": 2,
 "cells": [
  {
   "cell_type": "code",
   "execution_count": 8,
   "metadata": {},
   "outputs": [],
   "source": [
    "from selenium import webdriver\n",
    "from selenium.webdriver.chrome.options import Options\n",
    "import pandas as pd \n",
    "import time"
   ]
  },
  {
   "cell_type": "code",
   "execution_count": 9,
   "metadata": {},
   "outputs": [],
   "source": [
    "# creating variables for storing web scraped data\n",
    "\n",
    "movies = {\n",
    "    'movie': [],\n",
    "    'rating': [],\n",
    "    'rating_description': [],\n",
    "    'duration': [],\n",
    "    'mpass': []\n",
    "}"
   ]
  },
  {
   "cell_type": "code",
   "execution_count": 10,
   "metadata": {},
   "outputs": [],
   "source": [
    "options = Options()\n",
    "options.add_argument(\"--headless\")\n",
    "driver = webdriver.Chrome('/Users/kim/Desktop/Personal_Python/Automation/Driver/chromedriver 86', options = options) \n",
    "\n",
    "# getting the URL and scraping\n",
    "URL = 'https://www.gv.com.sg/GVMovies'\n",
    "\n",
    "driver.get(URL)\n",
    "\n",
    "movie_elems1 = driver.find_elements_by_id('nowMovieThumb')\n",
    "movie_elems2 = driver.find_elements_by_id('nowMovieThumb13')"
   ]
  },
  {
   "source": [
    "for movie in movie_elems1:\n",
    "\n",
    "    title = movie.find_element_by_css_selector('h5.ng-binding').text\n",
    "    rating = movie.find_element_by_css_selector('p.ng-binding').text.replace(\"(\", \"\").replace(\")\", \"\").rsplit(': ')\n",
    "    duration = movie.find_element_by_css_selector('p.caption-times.ng-binding').text.replace(' minutes', \"\")\n",
    "\n",
    "    try:\n",
    "        if movie.find_element_by_css_selector('span.ng-binding.mp-ee-text').text == 'M Pass Movie':\n",
    "            mpass = 'Yes'\n",
    "        else:\n",
    "            mpass = None\n",
    "    except:\n",
    "        mpass = None\n",
    "\n",
    "    # appending items\n",
    "    movies['movie'].append(title)\n",
    "    movies['rating'].append(rating[0])\n",
    "\n",
    "    if len(rating) == 1:\n",
    "        movies['rating_description'].append(None)\n",
    "    else:\n",
    "        movies['rating_description'].append(rating[1])\n",
    "\n",
    "    movies['duration'].append(duration)\n",
    "    movies['mpass'].append(mpass)"
   ],
   "cell_type": "code",
   "metadata": {},
   "execution_count": 11,
   "outputs": []
  },
  {
   "source": [
    "for movie in movie_elems2:\n",
    "\n",
    "    title = movie.find_element_by_css_selector('h5.ng-binding').text\n",
    "    rating = movie.find_element_by_css_selector('p.ng-binding').text.replace(\"(\", \"\").replace(\")\", \"\").rsplit(': ')\n",
    "    duration = movie.find_element_by_css_selector('p.caption-times.ng-binding').text.replace(' minutes', \"\")\n",
    "    try:\n",
    "        if movie.find_element_by_css_selector('span.ng-binding.mp-ee-text').text == 'M Pass Movie':\n",
    "            mpass = 'Yes'\n",
    "        else:\n",
    "            mpass = None\n",
    "    except:\n",
    "        mpass = None\n",
    "\n",
    "    # appending items\n",
    "    movies['movie'].append(title)\n",
    "    movies['rating'].append(rating[0])\n",
    "\n",
    "    if len(rating) == 1:\n",
    "        movies['rating_description'].append(None)\n",
    "    else:\n",
    "        movies['rating_description'].append(rating[1])\n",
    "\n",
    "    movies['duration'].append(duration)\n",
    "    movies['mpass'].append(mpass)"
   ],
   "cell_type": "code",
   "metadata": {},
   "execution_count": 12,
   "outputs": []
  },
  {
   "source": [
    "# creating dataframe consisting of webscraped data for easier exporing\n",
    "df = pd.DataFrame(movies, columns = movies.keys())\n",
    "df.head()"
   ],
   "cell_type": "code",
   "metadata": {},
   "execution_count": 13,
   "outputs": [
    {
     "output_type": "execute_result",
     "data": {
      "text/plain": [
       "                                         movie rating      rating_description  \\\n",
       "0                          Wonder Woman 1984 *     PG           Some Violence   \n",
       "1  Cells at Work!! Special Screening Edition *   NC16           Some Violence   \n",
       "2                         Soul Snatcher 赤狐书生 *   PG13           Some Violence   \n",
       "3                    Tiong Bahru Social Club *   NC16  Some Sexual References   \n",
       "4                The Diam Diam Era 我们的故事之沉默的年代   PG13    Some Coarse Language   \n",
       "\n",
       "  duration mpass  \n",
       "0      151  None  \n",
       "1      113  None  \n",
       "2      125  None  \n",
       "3       88  None  \n",
       "4      107  None  "
      ],
      "text/html": "<div>\n<style scoped>\n    .dataframe tbody tr th:only-of-type {\n        vertical-align: middle;\n    }\n\n    .dataframe tbody tr th {\n        vertical-align: top;\n    }\n\n    .dataframe thead th {\n        text-align: right;\n    }\n</style>\n<table border=\"1\" class=\"dataframe\">\n  <thead>\n    <tr style=\"text-align: right;\">\n      <th></th>\n      <th>movie</th>\n      <th>rating</th>\n      <th>rating_description</th>\n      <th>duration</th>\n      <th>mpass</th>\n    </tr>\n  </thead>\n  <tbody>\n    <tr>\n      <th>0</th>\n      <td>Wonder Woman 1984 *</td>\n      <td>PG</td>\n      <td>Some Violence</td>\n      <td>151</td>\n      <td>None</td>\n    </tr>\n    <tr>\n      <th>1</th>\n      <td>Cells at Work!! Special Screening Edition *</td>\n      <td>NC16</td>\n      <td>Some Violence</td>\n      <td>113</td>\n      <td>None</td>\n    </tr>\n    <tr>\n      <th>2</th>\n      <td>Soul Snatcher 赤狐书生 *</td>\n      <td>PG13</td>\n      <td>Some Violence</td>\n      <td>125</td>\n      <td>None</td>\n    </tr>\n    <tr>\n      <th>3</th>\n      <td>Tiong Bahru Social Club *</td>\n      <td>NC16</td>\n      <td>Some Sexual References</td>\n      <td>88</td>\n      <td>None</td>\n    </tr>\n    <tr>\n      <th>4</th>\n      <td>The Diam Diam Era 我们的故事之沉默的年代</td>\n      <td>PG13</td>\n      <td>Some Coarse Language</td>\n      <td>107</td>\n      <td>None</td>\n    </tr>\n  </tbody>\n</table>\n</div>"
     },
     "metadata": {},
     "execution_count": 13
    }
   ]
  },
  {
   "cell_type": "code",
   "execution_count": 14,
   "metadata": {},
   "outputs": [],
   "source": [
    "df.to_excel('gv_movies.xlsx', na_rep= 'na')"
   ]
  }
 ]
}